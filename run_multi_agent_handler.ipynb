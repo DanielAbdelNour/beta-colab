{
 "cells": [
  {
   "cell_type": "code",
   "execution_count": 45,
   "metadata": {},
   "outputs": [],
   "source": [
    "from bm_multi_env import Game\n",
    "from IPython.display import clear_output\n",
    "from IPython.display import display\n",
    "import time\n",
    "import numpy as np\n",
    "from tqdm import tqdm\n",
    "import matplotlib.pyplot as plt\n",
    "import numpy as np\n",
    "from PIL import Image"
   ]
  },
  {
   "cell_type": "code",
   "execution_count": 19,
   "metadata": {},
   "outputs": [
    {
     "name": "stderr",
     "output_type": "stream",
     "text": [
      "100%|██████████| 1000000/1000000 [00:43<00:00, 23140.04it/s]"
     ]
    },
    {
     "name": "stdout",
     "output_type": "stream",
     "text": [
      "0\n"
     ]
    },
    {
     "name": "stderr",
     "output_type": "stream",
     "text": [
      "\n"
     ]
    }
   ],
   "source": [
    "'''\n",
    "How many times would we randomly score a point if we just did random moves?\n",
    "'''\n",
    "env = Game(5, 7)\n",
    "board, players = env.reset()\n",
    "done = False\n",
    "total_success = 0\n",
    "for i in tqdm(range(1000000)):\n",
    "    board, players = env.reset()\n",
    "    while not done:\n",
    "        old_score = players[0].score\n",
    "        board, done, players, bombs = env.step([np.random.choice([1,2,3,4,5]), 0])\n",
    "        new_score = players[0].score\n",
    "        if new_score - old_score > 0:\n",
    "            total_success += 1\n",
    "            \n",
    "print(\"total successes encountered:\", total_success, \"/1000000\")\n",
    "\n",
    "# it's not great ...."
   ]
  },
  {
   "cell_type": "code",
   "execution_count": 42,
   "metadata": {},
   "outputs": [],
   "source": [
    "# fig, ax = plt.subplots()\n",
    "# env.render()\n",
    "# print(\"fig now contains to rendered image\")"
   ]
  },
  {
   "cell_type": "code",
   "execution_count": 99,
   "metadata": {},
   "outputs": [
    {
     "data": {
      "image/png": "[encoded data removed]",
      "text/plain": [
       "<PIL.Image.Image image mode=RGB size=70x50 at 0x7FEA15761760>"
      ]
     },
     "execution_count": 99,
     "metadata": {},
     "output_type": "execute_result"
    }
   ],
   "source": [
    "cm = plt.get_cmap('viridis', lut=10) # 10 block types\n",
    "colored_image = cm(board)\n",
    "Image.fromarray((colored_image[:, :, :3] * 255).astype(np.uint8)).resize((70,50), Image.NEAREST)"
   ]
  },
  {
   "cell_type": "code",
   "execution_count": null,
   "metadata": {},
   "outputs": [],
   "source": []
  }
 ],
 "metadata": {
  "kernelspec": {
   "display_name": "Python 3",
   "language": "python",
   "name": "python3"
  },
  "language_info": {
   "codemirror_mode": {
    "name": "ipython",
    "version": 3
   },
   "file_extension": ".py",
   "mimetype": "text/x-python",
   "name": "python",
   "nbconvert_exporter": "python",
   "pygments_lexer": "ipython3",
   "version": "3.8.3"
  }
 },
 "nbformat": 4,
 "nbformat_minor": 4
}
